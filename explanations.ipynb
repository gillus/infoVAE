{
 "cells": [
  {
   "cell_type": "code",
   "execution_count": 42,
   "metadata": {
    "pycharm": {
     "is_executing": true
    },
    "scrolled": true
   },
   "outputs": [],
   "source": [
    "from infoVAE import MMD_VAE\n",
    "from classifier import ClfNet\n",
    "import torch\n",
    "from torchvision import transforms\n",
    "from torchvision.datasets import FashionMNIST\n",
    "from torch.utils.data import DataLoader\n",
    "import numpy as np\n",
    "import copy"
   ]
  },
  {
   "cell_type": "code",
   "execution_count": 7,
   "metadata": {
    "pycharm": {
     "name": "#%%\n"
    }
   },
   "outputs": [
    {
     "data": {
      "text/plain": [
       "<All keys matched successfully>"
      ]
     },
     "execution_count": 7,
     "metadata": {},
     "output_type": "execute_result"
    }
   ],
   "source": [
    "# caricamento classificatore e VAE allenati separatamente \n",
    "clf = ClfNet()\n",
    "clf.load_state_dict(torch.load('./FMnist_model_1.pt'))\n",
    "VAE = MMD_VAE()\n",
    "VAE.load_state_dict(torch.load('./infoVAE.sd'))"
   ]
  },
  {
   "cell_type": "code",
   "execution_count": 14,
   "metadata": {},
   "outputs": [
    {
     "name": "stdout",
     "output_type": "stream",
     "text": [
      "Test data, number of images:  10000\n"
     ]
    }
   ],
   "source": [
    "\n",
    "## Define a transform to read the data in as a tensor\n",
    "data_transform = transforms.Compose([\n",
    "                 transforms.Resize(28),\n",
    "                 transforms.CenterCrop(28),\n",
    "                 transforms.ToTensor()])\n",
    "\n",
    "test_data = FashionMNIST(root='fashionmnist/', train=False,\n",
    "                                  download=True, transform=data_transform)\n",
    "\n",
    "\n",
    "# Print out some stats about the training and test data\n",
    "print('Test data, number of images: ', len(test_data))\n",
    "\n",
    "test_loader = DataLoader(test_data, batch_size=1, shuffle=True)\n",
    "\n",
    "# specify the image classes\n",
    "classes = ['T-shirt/top', 'Trouser', 'Pullover', 'Dress', 'Coat',\n",
    "           'Sandal', 'Shirt', 'Sneaker', 'Bag', 'Ankle boot']"
   ]
  },
  {
   "cell_type": "code",
   "execution_count": 28,
   "metadata": {},
   "outputs": [
    {
     "name": "stdout",
     "output_type": "stream",
     "text": [
      "10000\n"
     ]
    }
   ],
   "source": [
    "# preparazione test set\n",
    "\n",
    "Xtest = [i[1][0] for i in enumerate(test_loader)]\n",
    "print(len(Xtest))"
   ]
  },
  {
   "cell_type": "code",
   "execution_count": 147,
   "metadata": {},
   "outputs": [
    {
     "name": "stdout",
     "output_type": "stream",
     "text": [
      "torch.Size([1, 4])\n",
      "torch.Size([1, 4])\n",
      "torch.Size([1, 4])\n",
      "torch.Size([1, 4])\n"
     ]
    }
   ],
   "source": [
    "index_expl = 1001 # indice istanza da spiegare\n",
    "\n",
    "\n",
    "\n",
    "prediction = clf(Xtest[index_expl]) # classificazione istanza\n",
    "sm = torch.nn.Softmax(dim=1) # funzione torch softmax\n",
    "\n",
    "latent = VAE.encoder(Xtest[index_expl]) # codice di partenza dell'istanza da spiegare (tramite encoder)\n",
    "original_prediction = sm(clf(VAE.decoder(latent)))\n",
    "original_image = VAE.decoder(latent) # ricostruzione istanza da spiegare\n",
    "pred_index = original_prediction.argmax().detach().numpy() #classe predetta\n",
    "alpha = np.zeros(latent.shape[1])\n",
    "j = 0\n",
    "delta_latent = 0.1 # delta per differenze finite (f(x+dh)-f(x))/dh\n",
    "\n",
    "for i in range(alpha.shape[0]):\n",
    "    # per ogni codice generativo del VAE calcolo seguente derivata:\n",
    "    # dalpha = ((probabilita' predetta perturbando codice)-(probabilita' predetta originale)/(perturbazione codice))\n",
    "    # in teoria questa' derivata potrebbe essere calcolata in maniera piu' precisa usando AutoGrad sul decoder\n",
    "    perturbed_latent = torch.clone(latent)\n",
    "    print(perturbed_latent.shape)\n",
    "    perturbed_latent[0,i] = perturbed_latent[0,i] + delta_latent\n",
    "    out = sm(clf(VAE.decoder(perturbed_latent)))\n",
    "    alpha[i]=(out[0,pred_index]-original_prediction[0,pred_index])/delta_latent"
   ]
  },
  {
   "cell_type": "code",
   "execution_count": 148,
   "metadata": {},
   "outputs": [],
   "source": [
    "prediction = pred_index\n",
    "lambda_coeff = 0\n",
    "while (prediction==pred_index) & (lambda_coeff <10.):\n",
    "    # una volta calcolato alpha cerco il cambiamento all'immagine da spiegare necessario\n",
    "    # a cambiare classificazione nella forma\n",
    "    # new_image = decoder( latent + lambda * alpha)\n",
    "    perturbed_latent = torch.clone(latent)\n",
    "    perturbed_latent = perturbed_latent + lambda_coeff * torch.from_numpy(alpha)\n",
    "    out = sm(clf(VAE.decoder(perturbed_latent.float())))\n",
    "    out_image = VAE.decoder(perturbed_latent.float())\n",
    "    prediction = out.argmax().detach().numpy()\n",
    "    lambda_coeff+=0.1\n",
    "    \n",
    "# anche qui un gradient descent vero e proprio (aggiornando vettore alpha ad ogni step) sarebbe piu'opportuno\n",
    "# ma stiamo solo prototipando un'idea\n"
   ]
  },
  {
   "cell_type": "code",
   "execution_count": 149,
   "metadata": {},
   "outputs": [],
   "source": [
    "# mappa di salienza da usare come spiegazione (immagine perturbata che cambia classificazione - immagine originale)\n",
    "\n",
    "explanation = (out_image-original_image)[0,0,:,:].detach().numpy()\n"
   ]
  },
  {
   "cell_type": "code",
   "execution_count": 150,
   "metadata": {},
   "outputs": [],
   "source": [
    "import matplotlib.pyplot as plt\n"
   ]
  },
  {
   "cell_type": "code",
   "execution_count": 151,
   "metadata": {},
   "outputs": [
    {
     "data": {
      "text/plain": [
       "<matplotlib.contour.QuadContourSet at 0x1603e51fd90>"
      ]
     },
     "execution_count": 151,
     "metadata": {},
     "output_type": "execute_result"
    },
    {
     "data": {
      "image/png": "[encoded data removed]",
      "text/plain": [
       "<Figure size 432x288 with 1 Axes>"
      ]
     },
     "metadata": {
      "needs_background": "light"
     },
     "output_type": "display_data"
    }
   ],
   "source": [
    "plt.imshow(original_image.detach().numpy()[0,0,:,:])\n",
    "plt.contourf(np.abs(explanation),alpha=0.5)\n"
   ]
  },
  {
   "cell_type": "code",
   "execution_count": 152,
   "metadata": {},
   "outputs": [
    {
     "data": {
      "text/plain": [
       "tensor([[[[1.3574e-03, 2.9028e-04, 1.0305e-04, 2.7671e-04, 2.3941e-03,\n",
       "           2.5533e-03, 1.1366e-03, 5.3327e-04, 6.8077e-04, 9.8753e-04,\n",
       "           1.4809e-03, 2.8538e-03, 7.3025e-03, 1.6939e-02, 3.1637e-02,\n",
       "           3.7784e-02, 4.1437e-02, 4.6310e-02, 6.6597e-02, 1.0094e-01,\n",
       "           1.3443e-01, 1.6516e-01, 1.4464e-01, 1.1226e-01, 6.5737e-02,\n",
       "           3.7187e-02, 3.0135e-02, 3.2216e-02],\n",
       "          [2.1285e-04, 1.1549e-05, 1.3222e-06, 4.9345e-06, 1.3984e-04,\n",
       "           3.6628e-04, 1.2827e-04, 1.7420e-05, 1.4035e-05, 2.8144e-05,\n",
       "           1.1967e-04, 5.5413e-04, 3.9345e-03, 1.6825e-02, 4.6281e-02,\n",
       "           7.3019e-02, 9.0600e-02, 1.0076e-01, 1.3834e-01, 2.1269e-01,\n",
       "           2.7656e-01, 3.3753e-01, 2.9946e-01, 2.3347e-01, 1.2548e-01,\n",
       "           5.7154e-02, 3.2738e-02, 2.8762e-02],\n",
       "          [7.6634e-05, 9.4440e-07, 1.9043e-08, 2.1575e-08, 7.7778e-07,\n",
       "           7.1877e-06, 4.8493e-06, 3.9285e-07, 1.5298e-07, 3.9260e-07,\n",
       "           4.0646e-06, 5.4695e-05, 1.4360e-03, 1.1251e-02, 5.3563e-02,\n",
       "           1.1173e-01, 1.6230e-01, 1.8471e-01, 2.3945e-01, 3.2413e-01,\n",
       "           3.8628e-01, 4.5846e-01, 4.4171e-01, 3.8576e-01, 2.3214e-01,\n",
       "           9.6225e-02, 4.4190e-02, 3.1587e-02],\n",
       "          [6.7458e-05, 2.9416e-07, 9.4331e-10, 1.8846e-10, 2.7099e-09,\n",
       "           6.8376e-08, 9.5804e-08, 1.1447e-08, 4.5647e-09, 1.1742e-08,\n",
       "           2.2329e-07, 5.5351e-06, 4.4296e-04, 6.7663e-03, 5.2697e-02,\n",
       "           1.3676e-01, 2.2324e-01, 2.8313e-01, 3.6011e-01, 4.3423e-01,\n",
       "           4.8174e-01, 5.5672e-01, 5.6015e-01, 5.2563e-01, 3.6743e-01,\n",
       "           1.4878e-01, 5.8997e-02, 3.4616e-02],\n",
       "          [1.8375e-04, 7.0884e-07, 8.2532e-10, 2.8517e-11, 7.0703e-11,\n",
       "           1.0084e-09, 2.5587e-09, 1.0607e-09, 1.1792e-09, 5.2182e-09,\n",
       "           1.5683e-07, 5.4950e-06, 4.9860e-04, 7.0246e-03, 5.9337e-02,\n",
       "           1.7016e-01, 2.9017e-01, 3.8349e-01, 4.4869e-01, 4.6730e-01,\n",
       "           4.9608e-01, 5.8145e-01, 6.2888e-01, 6.3602e-01, 5.1613e-01,\n",
       "           2.5603e-01, 1.0425e-01, 4.5394e-02],\n",
       "          [9.1776e-04, 6.2857e-06, 7.7123e-09, 1.0209e-10, 6.4432e-11,\n",
       "           3.5265e-10, 1.0770e-09, 6.5749e-10, 1.2097e-09, 1.2293e-08,\n",
       "           6.6147e-07, 3.0436e-05, 1.4546e-03, 1.4147e-02, 7.4039e-02,\n",
       "           1.6412e-01, 2.5509e-01, 3.1705e-01, 3.3100e-01, 2.7861e-01,\n",
       "           2.9538e-01, 3.9947e-01, 5.2142e-01, 5.9043e-01, 5.6902e-01,\n",
       "           3.8017e-01, 1.8331e-01, 6.5838e-02],\n",
       "          [2.2606e-03, 3.2461e-05, 5.2373e-08, 6.3832e-10, 2.0622e-10,\n",
       "           5.3679e-10, 1.9530e-09, 1.4360e-09, 2.2204e-09, 3.0539e-08,\n",
       "           4.1230e-06, 3.0683e-04, 5.7183e-03, 3.2092e-02, 7.6324e-02,\n",
       "           1.2286e-01, 1.8767e-01, 2.1946e-01, 1.7315e-01, 1.0315e-01,\n",
       "           1.0337e-01, 2.1537e-01, 3.9146e-01, 5.5040e-01, 6.5414e-01,\n",
       "           5.4861e-01, 3.2734e-01, 1.1333e-01],\n",
       "          [2.1064e-03, 4.3538e-05, 9.6766e-08, 1.9261e-09, 1.0903e-09,\n",
       "           2.9268e-09, 1.2816e-08, 5.1368e-09, 3.5004e-09, 3.2289e-08,\n",
       "           3.9409e-06, 3.9110e-04, 5.6825e-03, 2.9560e-02, 5.5742e-02,\n",
       "           7.2319e-02, 8.9262e-02, 7.7824e-02, 4.6279e-02, 2.4111e-02,\n",
       "           2.9133e-02, 9.8206e-02, 2.5887e-01, 5.0402e-01, 7.0165e-01,\n",
       "           6.6480e-01, 4.5404e-01, 1.6139e-01],\n",
       "          [7.7211e-04, 9.2550e-06, 1.5563e-08, 4.9866e-10, 8.9860e-10,\n",
       "           5.6112e-09, 1.9451e-08, 4.7734e-09, 1.2300e-09, 3.6770e-09,\n",
       "           2.4455e-07, 4.6320e-05, 1.5369e-03, 1.0444e-02, 2.3291e-02,\n",
       "           2.9796e-02, 2.4234e-02, 1.0948e-02, 5.7916e-03, 5.9549e-03,\n",
       "           1.2896e-02, 6.7609e-02, 2.1264e-01, 5.2068e-01, 7.3712e-01,\n",
       "           7.2040e-01, 5.3793e-01, 2.0808e-01],\n",
       "          [3.6122e-04, 3.1312e-06, 4.8924e-09, 1.8491e-10, 5.5104e-10,\n",
       "           5.3898e-09, 1.4561e-08, 1.5207e-09, 2.0001e-10, 5.6132e-10,\n",
       "           1.5187e-08, 2.9570e-06, 1.6774e-04, 1.8209e-03, 5.7454e-03,\n",
       "           6.6685e-03, 4.5901e-03, 2.4628e-03, 2.0192e-03, 4.1325e-03,\n",
       "           1.2505e-02, 6.3191e-02, 2.2814e-01, 5.6978e-01, 7.7924e-01,\n",
       "           7.7598e-01, 6.3313e-01, 2.7966e-01],\n",
       "          [2.8917e-04, 2.0330e-06, 3.0119e-09, 1.2600e-10, 2.5442e-10,\n",
       "           1.0025e-09, 1.5296e-09, 1.1755e-10, 1.5052e-11, 7.5807e-11,\n",
       "           1.7846e-09, 3.0435e-07, 1.7397e-05, 3.2787e-04, 1.5782e-03,\n",
       "           1.6232e-03, 8.6376e-04, 7.8687e-04, 1.2320e-03, 4.5562e-03,\n",
       "           1.7673e-02, 7.1413e-02, 2.5354e-01, 6.0295e-01, 8.0702e-01,\n",
       "           8.1560e-01, 7.0568e-01, 3.5081e-01],\n",
       "          [4.3936e-04, 5.1360e-06, 1.2926e-08, 6.6725e-10, 1.0571e-09,\n",
       "           1.2765e-09, 5.7147e-10, 2.6147e-11, 5.7610e-12, 9.5722e-11,\n",
       "           4.8558e-09, 5.0255e-07, 6.5971e-06, 8.7587e-05, 4.4612e-04,\n",
       "           3.8793e-04, 1.9953e-04, 4.5455e-04, 1.9189e-03, 9.9855e-03,\n",
       "           3.7191e-02, 1.1628e-01, 3.4099e-01, 6.3709e-01, 8.2231e-01,\n",
       "           8.4438e-01, 7.4623e-01, 3.7974e-01],\n",
       "          [1.1640e-03, 3.6814e-05, 3.0381e-07, 3.4231e-08, 3.3648e-08,\n",
       "           7.9044e-09, 5.5598e-10, 7.2051e-12, 3.2812e-12, 1.0723e-10,\n",
       "           1.6993e-08, 2.8733e-06, 1.8929e-05, 1.0836e-04, 3.1186e-04,\n",
       "           4.2589e-04, 2.0926e-04, 3.9655e-04, 2.3966e-03, 1.7207e-02,\n",
       "           7.8127e-02, 1.9930e-01, 4.3201e-01, 6.6580e-01, 8.2113e-01,\n",
       "           8.4146e-01, 7.2882e-01, 3.4129e-01],\n",
       "          [3.2651e-03, 2.7014e-04, 6.6186e-06, 1.5198e-06, 1.4848e-06,\n",
       "           3.2738e-07, 9.7965e-09, 4.4268e-11, 2.0950e-11, 7.7286e-10,\n",
       "           1.6252e-07, 1.9069e-05, 6.1862e-05, 1.0182e-04, 1.7894e-04,\n",
       "           5.0744e-04, 4.3186e-04, 6.1561e-04, 3.0193e-03, 2.7234e-02,\n",
       "           1.4101e-01, 2.9668e-01, 4.6064e-01, 6.3463e-01, 7.8818e-01,\n",
       "           8.0306e-01, 6.7514e-01, 2.9526e-01],\n",
       "          [7.9225e-03, 1.1915e-03, 6.1215e-05, 1.7096e-05, 2.1338e-05,\n",
       "           8.6861e-06, 2.0924e-07, 7.9490e-10, 2.9061e-10, 7.1577e-09,\n",
       "           9.3569e-07, 3.3776e-05, 8.2064e-05, 1.0278e-04, 1.4400e-04,\n",
       "           9.7216e-04, 1.9176e-03, 2.9228e-03, 9.5779e-03, 5.8547e-02,\n",
       "           2.1149e-01, 3.5716e-01, 4.6372e-01, 6.0675e-01, 7.6471e-01,\n",
       "           7.7424e-01, 6.4181e-01, 2.7299e-01],\n",
       "          [8.5152e-03, 9.7791e-04, 4.8108e-05, 1.1426e-05, 2.4614e-05,\n",
       "           6.4138e-05, 6.8014e-06, 9.6534e-08, 3.6654e-08, 5.5785e-07,\n",
       "           1.7836e-05, 6.2927e-05, 5.1858e-05, 4.9357e-05, 1.1702e-04,\n",
       "           1.0192e-03, 4.5159e-03, 1.5239e-02, 4.4389e-02, 1.4216e-01,\n",
       "           2.5234e-01, 3.2512e-01, 4.2382e-01, 5.8190e-01, 7.5840e-01,\n",
       "           7.6443e-01, 6.2536e-01, 2.6820e-01],\n",
       "          [8.6040e-03, 6.4133e-04, 2.2189e-05, 4.2512e-06, 1.5912e-05,\n",
       "           2.2107e-04, 2.0864e-04, 1.9819e-05, 9.0991e-06, 5.2202e-05,\n",
       "           3.6009e-04, 2.3871e-04, 9.9730e-05, 8.5081e-05, 2.7495e-04,\n",
       "           2.7777e-03, 1.6627e-02, 8.4505e-02, 2.0913e-01, 3.0209e-01,\n",
       "           2.9289e-01, 2.9248e-01, 3.8243e-01, 5.6700e-01, 7.5355e-01,\n",
       "           7.4899e-01, 5.8975e-01, 2.4701e-01],\n",
       "          [7.5068e-03, 4.5022e-04, 1.2213e-05, 2.3786e-06, 1.5792e-05,\n",
       "           4.6102e-04, 2.1806e-03, 1.1596e-03, 7.8407e-04, 1.8395e-03,\n",
       "           4.5762e-03, 1.2731e-03, 4.3686e-04, 3.1241e-04, 1.1390e-03,\n",
       "           9.2853e-03, 5.3763e-02, 2.0670e-01, 3.4939e-01, 3.3733e-01,\n",
       "           2.5221e-01, 2.1515e-01, 2.8975e-01, 4.8297e-01, 6.8757e-01,\n",
       "           6.8331e-01, 5.1128e-01, 2.0013e-01],\n",
       "          [6.2639e-03, 3.7539e-04, 1.0623e-05, 2.7740e-06, 3.1110e-05,\n",
       "           1.4194e-03, 1.5314e-02, 2.3057e-02, 2.0401e-02, 1.8864e-02,\n",
       "           1.3782e-02, 3.5875e-03, 2.0014e-03, 2.0722e-03, 9.4189e-03,\n",
       "           6.0756e-02, 2.5112e-01, 4.5944e-01, 4.6761e-01, 3.1033e-01,\n",
       "           1.6878e-01, 1.0936e-01, 1.6518e-01, 3.6723e-01, 5.9143e-01,\n",
       "           6.1665e-01, 4.4909e-01, 1.6338e-01],\n",
       "          [6.5010e-03, 6.1206e-04, 2.4913e-05, 9.0233e-06, 1.2668e-04,\n",
       "           4.5080e-03, 5.2518e-02, 9.8636e-02, 7.2453e-02, 3.6231e-02,\n",
       "           1.4090e-02, 6.1757e-03, 8.7168e-03, 1.7970e-02, 7.4062e-02,\n",
       "           2.3367e-01, 4.1990e-01, 4.6934e-01, 3.8189e-01, 2.1603e-01,\n",
       "           9.9888e-02, 6.3253e-02, 1.0041e-01, 2.8983e-01, 5.5643e-01,\n",
       "           5.8255e-01, 4.0546e-01, 1.3833e-01],\n",
       "          [8.8304e-03, 1.6992e-03, 1.4412e-04, 8.9850e-05, 1.1961e-03,\n",
       "           2.4670e-02, 1.5532e-01, 2.5334e-01, 1.8546e-01, 7.7903e-02,\n",
       "           1.7891e-02, 1.1035e-02, 2.8750e-02, 9.9997e-02, 3.0177e-01,\n",
       "           4.8398e-01, 5.2400e-01, 3.6358e-01, 1.8354e-01, 7.5320e-02,\n",
       "           4.2847e-02, 3.6877e-02, 7.4578e-02, 2.8256e-01, 5.7220e-01,\n",
       "           5.8959e-01, 3.9523e-01, 1.3108e-01],\n",
       "          [1.9780e-02, 9.3995e-03, 1.9832e-03, 1.8397e-03, 1.7187e-02,\n",
       "           1.1876e-01, 3.3447e-01, 4.3930e-01, 3.6389e-01, 1.9007e-01,\n",
       "           4.8773e-02, 3.6935e-02, 9.8927e-02, 2.6982e-01, 4.8662e-01,\n",
       "           4.9575e-01, 3.5713e-01, 1.2899e-01, 3.7204e-02, 1.6444e-02,\n",
       "           1.7056e-02, 2.9365e-02, 7.9173e-02, 2.7792e-01, 5.6909e-01,\n",
       "           5.6084e-01, 3.5969e-01, 1.2067e-01],\n",
       "          [4.2586e-02, 5.2126e-02, 2.7211e-02, 3.7896e-02, 1.4835e-01,\n",
       "           3.2121e-01, 4.9760e-01, 5.7961e-01, 5.6805e-01, 4.2430e-01,\n",
       "           1.9869e-01, 1.2315e-01, 1.7832e-01, 3.0944e-01, 4.3243e-01,\n",
       "           3.2967e-01, 1.2575e-01, 1.6126e-02, 2.5319e-03, 2.2590e-03,\n",
       "           6.1865e-03, 2.3245e-02, 9.7235e-02, 3.1664e-01, 5.6007e-01,\n",
       "           5.3964e-01, 3.5278e-01, 1.2711e-01],\n",
       "          [8.5048e-02, 1.9208e-01, 1.6725e-01, 2.0138e-01, 3.6347e-01,\n",
       "           4.4446e-01, 5.8282e-01, 6.4362e-01, 6.9911e-01, 6.5581e-01,\n",
       "           5.1056e-01, 3.6420e-01, 3.4766e-01, 3.8223e-01, 3.9926e-01,\n",
       "           2.2714e-01, 5.1870e-02, 3.0610e-03, 3.0310e-04, 4.3524e-04,\n",
       "           2.7873e-03, 2.0838e-02, 1.0664e-01, 3.2568e-01, 5.2714e-01,\n",
       "           5.1747e-01, 3.5572e-01, 1.3873e-01],\n",
       "          [1.1937e-01, 3.2562e-01, 3.8583e-01, 4.0367e-01, 4.4822e-01,\n",
       "           4.3675e-01, 5.8171e-01, 6.9913e-01, 7.9442e-01, 7.8752e-01,\n",
       "           6.9975e-01, 5.8860e-01, 5.3540e-01, 4.6325e-01, 3.5120e-01,\n",
       "           1.2811e-01, 1.4151e-02, 5.0857e-04, 3.8556e-05, 7.5838e-05,\n",
       "           7.5586e-04, 9.2821e-03, 6.1848e-02, 2.4452e-01, 4.9874e-01,\n",
       "           5.5313e-01, 4.0363e-01, 1.6823e-01],\n",
       "          [1.2230e-01, 3.1415e-01, 3.9392e-01, 4.3245e-01, 4.2781e-01,\n",
       "           3.7046e-01, 4.6426e-01, 6.1125e-01, 7.4807e-01, 7.5892e-01,\n",
       "           7.0193e-01, 6.3868e-01, 5.4767e-01, 3.7363e-01, 1.9411e-01,\n",
       "           5.7244e-02, 5.7773e-03, 2.7918e-04, 3.4772e-05, 7.0303e-05,\n",
       "           6.0860e-04, 5.8583e-03, 3.0416e-02, 1.2037e-01, 3.1012e-01,\n",
       "           4.0720e-01, 3.2887e-01, 1.7048e-01],\n",
       "          [1.0184e-01, 2.1916e-01, 2.8406e-01, 3.3375e-01, 3.4780e-01,\n",
       "           2.9208e-01, 3.4123e-01, 4.6874e-01, 6.0098e-01, 6.1850e-01,\n",
       "           5.7354e-01, 5.5197e-01, 4.5344e-01, 2.5131e-01, 1.1160e-01,\n",
       "           3.5037e-02, 5.5459e-03, 6.9139e-04, 2.1580e-04, 4.1681e-04,\n",
       "           1.8135e-03, 7.2611e-03, 2.1752e-02, 6.4122e-02, 1.8798e-01,\n",
       "           2.6806e-01, 2.5225e-01, 1.5956e-01],\n",
       "          [6.5837e-02, 8.9415e-02, 9.2327e-02, 1.0633e-01, 1.2158e-01,\n",
       "           1.2023e-01, 1.2900e-01, 1.5434e-01, 1.9635e-01, 2.1045e-01,\n",
       "           2.0540e-01, 2.0335e-01, 1.4922e-01, 7.6934e-02, 4.0256e-02,\n",
       "           1.9837e-02, 6.6964e-03, 2.1681e-03, 1.6250e-03, 3.6191e-03,\n",
       "           9.9422e-03, 1.5463e-02, 2.0378e-02, 3.2282e-02, 6.0824e-02,\n",
       "           8.2981e-02, 1.0205e-01, 9.8995e-02]]]], grad_fn=<SigmoidBackward>)"
      ]
     },
     "execution_count": 152,
     "metadata": {},
     "output_type": "execute_result"
    }
   ],
   "source": []
  },
  {
   "cell_type": "code",
   "execution_count": null,
   "metadata": {},
   "outputs": [],
   "source": []
  }
 ],
 "metadata": {
  "kernelspec": {
   "display_name": "Python 3",
   "language": "python",
   "name": "python3"
  },
  "language_info": {
   "codemirror_mode": {
    "name": "ipython",
    "version": 3
   },
   "file_extension": ".py",
   "mimetype": "text/x-python",
   "name": "python",
   "nbconvert_exporter": "python",
   "pygments_lexer": "ipython3",
   "version": "3.8.5"
  }
 },
 "nbformat": 4,
 "nbformat_minor": 1
}
